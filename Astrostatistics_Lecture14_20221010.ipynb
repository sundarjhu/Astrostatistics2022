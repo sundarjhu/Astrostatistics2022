{
  "nbformat": 4,
  "nbformat_minor": 0,
  "metadata": {
    "colab": {
      "name": "Astrostatistics_Lecture14_20210601.ipynb",
      "provenance": []
    },
    "kernelspec": {
      "display_name": "Python 3",
      "language": "python",
      "name": "python3"
    },
    "language_info": {
      "codemirror_mode": {
        "name": "ipython",
        "version": 3
      },
      "file_extension": ".py",
      "mimetype": "text/x-python",
      "name": "python",
      "nbconvert_exporter": "python",
      "pygments_lexer": "ipython3",
      "version": "3.7.6"
    }
  },
  "cells": [
    {
      "cell_type": "code",
      "source": [
        "import numpy as np\n",
        "seed = 10001"
      ],
      "metadata": {
        "id": "dM7EVjC7IUNo"
      },
      "execution_count": 7,
      "outputs": []
    },
    {
      "cell_type": "markdown",
      "metadata": {
        "id": "L-zkA-YXTI3D"
      },
      "source": [
        "#**Two-sample Z-test on independent samples.**"
      ]
    },
    {
      "cell_type": "markdown",
      "metadata": {
        "id": "KQqjZWqQTpa7"
      },
      "source": [
        "#Case 1. Two individual measurements.\n",
        "###The melting point of two specimens of material are measured to be $202\\pm 3$ K and $209\\pm 4$ K. Could these be two samples of different materials?\n",
        "###(assumption: errors are Gaussian)"
      ]
    },
    {
      "cell_type": "markdown",
      "metadata": {
        "id": "G3nU26tNUa67"
      },
      "source": [
        "##$H_{_0}$: the samples are of the same substance. $H_{_1}$: the samples are made of different materials.\n",
        "##If $H_{_0}$ is true, the melting points of the two samples should be identical within measurement errors. That is, $T_{_1} - T_{_2}$ should have a Gaussian distribution around mean $0$."
      ]
    },
    {
      "cell_type": "code",
      "metadata": {
        "id": "d3L3j3sOUJoT",
        "outputId": "0115e72e-e1d6-4ad1-856e-427e3f82869d",
        "colab": {
          "base_uri": "https://localhost:8080/"
        }
      },
      "source": [
        "from scipy.stats import norm\n",
        "significance = 0.05\n",
        "T1 = 202.0\n",
        "T2 = 209.0\n",
        "dT1 = 3.0\n",
        "dT2 = 4.0\n",
        "DeltaT = np.abs(T2 - T1) #only the magnitude of the difference matters\n",
        "sigmaT = np.sqrt(dT1**2 + dT2**2)\n",
        "DT_by_sigT = DeltaT / sigmaT\n",
        "print(\"Standard deviation on difference: {} K\".format(np.round(sigmaT, decimals = 3)))\n",
        "print(\"Difference in melting points: {} K\".format(np.round(DeltaT, decimals = 3)))\n",
        "print(\"Difference in # of standard deviations: {}\".format(np.round(DT_by_sigT, decimals = 3)))\n",
        "#p-value (two-tailed) = P(|Z| > DT_by_sigT) = 2 * P(Z < -DT_by_sigT) = 2 * CDF(-DT_by_sigT)\n",
        "pvalue = np.round(2 * norm.cdf(-DT_by_sigT), decimals = 3)\n",
        "print(\"p-value corresponding to this difference: {}\".format(pvalue))\n",
        "if pvalue > significance:\n",
        "  print(\"p-value > significance, cannot reject null hypothesis.\")\n",
        "else:\n",
        "  print(\"p-value < significance, null hypothesis rejected!\")"
      ],
      "execution_count": 8,
      "outputs": [
        {
          "output_type": "stream",
          "name": "stdout",
          "text": [
            "Standard deviation on difference: 5.0 K\n",
            "Difference in melting points: 7.0 K\n",
            "Difference in # of standard deviations: 1.4\n",
            "p-value corresponding to this difference: 0.162\n",
            "p-value > significance, cannot reject null hypothesis.\n"
          ]
        }
      ]
    },
    {
      "cell_type": "markdown",
      "metadata": {
        "id": "U-B0aFc4XOKS"
      },
      "source": [
        "#Case 2. Two sets of measurements.\n",
        "###The average score on the statistics exam in 2019 was 12.5 for 109 students. In 2020, it was 12.7 for 123 students. The distributions have a spread of $\\sigma = 2.0$. Is the standard of students improving?"
      ]
    },
    {
      "cell_type": "markdown",
      "metadata": {
        "id": "tY98_owDXi_r"
      },
      "source": [
        "##$H_{_0}$: the standard has not changed. $H_{_1}$: the standard of students has increased (one-tailed test).\n",
        "##If $H_{_0}$ is true, the difference in means of the two years should be normally distributed about 0."
      ]
    },
    {
      "cell_type": "code",
      "metadata": {
        "id": "ItlZWQLEX-Vu",
        "outputId": "1dd963c5-2eea-4f38-ccdc-861bf39db78f",
        "colab": {
          "base_uri": "https://localhost:8080/"
        }
      },
      "source": [
        "from scipy.stats import norm\n",
        "significance = 0.05\n",
        "mean2019 = 12.5\n",
        "N2019 = 109\n",
        "mean2020 = 12.7\n",
        "N2020 = 123\n",
        "sigma = 2.0 #this is the standard deviation on an INDIVIDUAL score\n",
        "Delta_mean = mean2020 - mean2019 #the sign of the mean also matters\n",
        "sigma2019 = sigma / np.sqrt(N2019) #This is the standard deviation on the MEAN score of 2019\n",
        "sigma2020 = sigma / np.sqrt(N2020) #This is the standard deviation on the MEAN score of 2020\n",
        "sigma_mean = np.sqrt(sigma2019**2 + sigma2020**2)\n",
        "Dmean_by_sigmean = Delta_mean / sigma_mean\n",
        "print(\"Standard deviation on difference in means: {}\".format(np.round(sigma_mean, decimals = 3)))\n",
        "print(\"Difference in means: {}\".format(np.round(Delta_mean, decimals = 3)))\n",
        "print(\"Difference in # of standard deviations: {}\".format(np.round(Dmean_by_sigmean, decimals = 3)))\n",
        "#p-value (one-tailed) = P(Z > Dmean_by_sigmean) = 1 - CDF(Dmean_by_sigmean)\n",
        "pvalue = np.round(1 - norm.cdf(Dmean_by_sigmean), decimals = 3)\n",
        "print(\"p-value corresponding to this difference: {}\".format(pvalue))\n",
        "if pvalue > significance:\n",
        "  print(\"p-value > significance, cannot reject null hypothesis.\")\n",
        "else:\n",
        "  print(\"p-value < significance, null hypothesis rejected!\")"
      ],
      "execution_count": 9,
      "outputs": [
        {
          "output_type": "stream",
          "name": "stdout",
          "text": [
            "Standard deviation on difference in means: 0.263\n",
            "Difference in means: 0.2\n",
            "Difference in # of standard deviations: 0.76\n",
            "p-value corresponding to this difference: 0.224\n",
            "p-value > significance, cannot reject null hypothesis.\n"
          ]
        }
      ]
    },
    {
      "cell_type": "markdown",
      "metadata": {
        "id": "7FwqkocMX5rF"
      },
      "source": [
        "# Two-sample $t$-test on independent and dependent/paired/matched/correlated samples.\n",
        "\n",
        "> ### Assumptions:<br> - Samples are drawn from a Gaussian distribution.<br> - Sample sizes approximately equal.<br> - Samples have the same variance (relaxed versions exist: Welch's $t$-test)."
      ]
    },
    {
      "cell_type": "markdown",
      "metadata": {
        "id": "Epz7Q7xcX5rF"
      },
      "source": [
        "## Independent samples"
      ]
    },
    {
      "cell_type": "markdown",
      "metadata": {
        "id": "NnRnHVgPX5rG"
      },
      "source": [
        "### Generate two independent samples from a Normal distribution"
      ]
    },
    {
      "cell_type": "code",
      "metadata": {
        "id": "wXFcvA_6X5rG"
      },
      "source": [
        "from scipy.stats import norm\n",
        "import numpy as np\n",
        "N = 50; N1 = 50; N2 = 50\n",
        "np.random.seed(seed)\n",
        "#Notice the means are different by design!\n",
        "x1 = norm.rvs(loc = 0.0, size = N); x2 = norm.rvs(loc = 1.0, size = N)"
      ],
      "execution_count": 10,
      "outputs": []
    },
    {
      "cell_type": "markdown",
      "metadata": {
        "id": "kg4xpEitX5rH"
      },
      "source": [
        "### Compute the $t$-statistic for the difference in means\n",
        "#### $t = \\displaystyle{\\overline{x_1} - \\overline{x_2}\\over \\sqrt{\\displaystyle{\\hat{\\sigma_1^2}\\over N} + \\displaystyle{\\hat{\\sigma_2^2}\\over N}}}$"
      ]
    },
    {
      "cell_type": "code",
      "metadata": {
        "id": "DHP8ANxiX5rH",
        "outputId": "a559e431-8801-4d86-9b06-962b07a67a06",
        "colab": {
          "base_uri": "https://localhost:8080/"
        }
      },
      "source": [
        "se1 = x1.std(ddof = 1) / np.sqrt(N) #standard error on sample mean of sample 1\n",
        "se2 = x2.std(ddof = 1) / np.sqrt(N) #standard error on sample mean of sample 2\n",
        "sed = np.sqrt(se1**2 + se2**2) #standard error on pooled sample\n",
        "tstat = (x1.mean() - x2.mean()) / sed\n",
        "#Total number of degrees of freedom in pooled sample is total number of points - 2\n",
        "#      because two population means are estimated from the samples.\n",
        "df = (N1 -1) + (N2 - 1)\n",
        "print(\"The t-statistic is {} and has {} degrees of freedom\".format(np.round(tstat, decimals = 3),df))"
      ],
      "execution_count": 11,
      "outputs": [
        {
          "output_type": "stream",
          "name": "stdout",
          "text": [
            "The t-statistic is -5.782 and has 98 degrees of freedom\n"
          ]
        }
      ]
    },
    {
      "cell_type": "markdown",
      "metadata": {
        "id": "jitz1S9BX5rI"
      },
      "source": [
        "### Determine $p$-value of the observed $t$-statistic"
      ]
    },
    {
      "cell_type": "code",
      "metadata": {
        "id": "aDIS9ighX5rJ",
        "colab": {
          "base_uri": "https://localhost:8080/"
        },
        "outputId": "1e345ee1-f995-402e-9c55-0293d83bd316"
      },
      "source": [
        "from scipy.stats import t\n",
        "alpha = 0.05\n",
        "\n",
        "choice = input(\"Perform one-tailed test? [Y]/N: \")\n",
        "if choice.upper() == 'Y':\n",
        "    print(\"OK, performing one-tailed test...\")\n",
        "    if tstat < 0:\n",
        "        pvalue = t.cdf(tstat, df)\n",
        "        print(\"Observed t statistic is negative, performing left-tailed test\")\n",
        "        print(\"p-value for t <= observed value is \", np.format_float_scientific(pvalue, precision=2))\n",
        "    else:\n",
        "        pvalue = 1 - t.cdf(tstat, df)\n",
        "        print(\"Observed t statistic is positive, performing right-tailed test\")\n",
        "        print(\"p-value for t >= observed value is \", np.format_float_scientific(pvalue, precision=2))\n",
        "else:\n",
        "    tstat_abs = np.abs(tstat)\n",
        "    pvalue = t.cdf(-tstat_abs, df) + 1 - t.cdf(tstat_abs, df)\n",
        "    print(\"OK, performing two-tailed test...\")\n",
        "    print(\"p-value for |t| >= observed value is \", np.format_float_scientific(pvalue, precision=2))\n",
        "\n",
        "if pvalue <= alpha:\n",
        "    print(\"Since p-value is <= alpha, the null hypothesis is rejected.\")\n",
        "else:\n",
        "    print(\"Since p-value is > alpha, the null hypothesis cannot be rejected.\")"
      ],
      "execution_count": 18,
      "outputs": [
        {
          "output_type": "stream",
          "name": "stdout",
          "text": [
            "Perform one-tailed test? [Y]/N: y\n",
            "OK, performing one-tailed test...\n",
            "Observed t statistic is negative, performing left-tailed test\n",
            "p-value for t <= observed value is  4.39e-08\n",
            "Since p-value is <= alpha, the null hypothesis is rejected.\n"
          ]
        }
      ]
    },
    {
      "cell_type": "markdown",
      "metadata": {
        "id": "npdOsNM0X5rK"
      },
      "source": [
        "### Try the same with `scipy.stats.ttest_ind` (two-tailed test)\n",
        "#### p-value for one-tailed test should be half of that for a two-tailed test since the $t$ distribution is symmetric."
      ]
    },
    {
      "cell_type": "code",
      "metadata": {
        "id": "mQke7JrZX5rK",
        "outputId": "9e4ce6fb-b9e9-4578-a796-479159114427",
        "colab": {
          "base_uri": "https://localhost:8080/"
        }
      },
      "source": [
        "from scipy.stats import ttest_ind\n",
        "tstat, pvalue = ttest_ind(x1, x2, equal_var = True)\n",
        "print(\"The observed t-statistic is\", np.round(tstat, decimals = 3))\n",
        "print(\"The corresponding p-value is \", np.format_float_scientific(pvalue, precision=2))\n",
        "\n",
        "\n",
        "if pvalue <= alpha:\n",
        "    print(\"Since p-value is <= alpha, the null hypothesis is rejected.\")\n",
        "else:\n",
        "    print(\"Since p-value is > alpha, the null hypothesis cannot be rejected.\")"
      ],
      "execution_count": 19,
      "outputs": [
        {
          "output_type": "stream",
          "name": "stdout",
          "text": [
            "The observed t-statistic is -5.782\n",
            "The corresponding p-value is  8.78e-08\n",
            "Since p-value is <= alpha, the null hypothesis is rejected.\n"
          ]
        }
      ]
    },
    {
      "cell_type": "markdown",
      "metadata": {
        "id": "qRTvYyU-X5rM"
      },
      "source": [
        "## Dependent samples"
      ]
    },
    {
      "cell_type": "markdown",
      "metadata": {
        "id": "nN6PNd-9X5rM"
      },
      "source": [
        "### Generate two dependent samples"
      ]
    },
    {
      "cell_type": "code",
      "metadata": {
        "id": "2rGXU1wMX5rM",
        "outputId": "f6615da9-e3c9-45b4-c9ed-05a97fcce6da",
        "colab": {
          "base_uri": "https://localhost:8080/"
        }
      },
      "source": [
        "np.random.seed(seed)\n",
        "#x1: source + background with mean 0.5\n",
        "#x2: background-subtracted data\n",
        "x1 = norm.rvs(loc = 3.0, size = 50); x2 = x1 - norm.rvs(loc = 0.5, size = 50)\n",
        "#Demonstrate that x1 and x2 are correlated\n",
        "from scipy.stats import pearsonr\n",
        "r, _ = pearsonr(x1, x2)\n",
        "print(\"The two datasets have a Pearson r correlation coefficient of {}\".format(np.round(r, decimals = 3)))"
      ],
      "execution_count": 20,
      "outputs": [
        {
          "output_type": "stream",
          "name": "stdout",
          "text": [
            "The two datasets have a Pearson r correlation coefficient of 0.696\n"
          ]
        }
      ]
    },
    {
      "cell_type": "markdown",
      "metadata": {
        "id": "Z-qevl7FX5rN"
      },
      "source": [
        "### Compute the $t$-statistic for the difference in means\n",
        "#### $t = \\displaystyle{\\overline{x_1}-\\overline{x_2}\\over \\displaystyle{s_y\\over \\sqrt{N}}}$, where $s_y \\equiv \\sqrt{\\displaystyle{1\\over N-1}\\Bigg[\\displaystyle\\sum\\limits_{i=1}^N (x_{1,i}-x_{2,i})^2 - \n",
        "N(\\overline{x_1}-\\overline{x_2})^2\n",
        "%\\displaystyle{\\Big(\\displaystyle\\sum\\limits_{i=1}^N (x_{1,i}-x_{2,i})\\Big)^2\\over N}\n",
        "\\Bigg]}$"
      ]
    },
    {
      "cell_type": "code",
      "metadata": {
        "id": "MR_e4zNuX5rN",
        "outputId": "c83f1fba-e160-4158-e83e-0579122b8aeb",
        "colab": {
          "base_uri": "https://localhost:8080/"
        }
      },
      "source": [
        "print(\"H0: samples drawn from populations with identical mean\")\n",
        "print(\"Ha: samples drawn from populations with different means\")\n",
        "\n",
        "from scipy.stats import ttest_rel\n",
        "tstat, pvalue = ttest_rel(x1, x2)\n",
        "print(\"The observed t-statistic is\", np.round(tstat, decimals = 3))\n",
        "print(\"The corresponding p-value is \", np.format_float_scientific(pvalue, precision=2))\n",
        "\n",
        "\n",
        "if pvalue <= alpha:\n",
        "    print(\"Since p-value is <= alpha, the null hypothesis is rejected.\")\n",
        "else:\n",
        "    print(\"Since p-value is > alpha, the null hypothesis cannot be rejected.\")"
      ],
      "execution_count": 22,
      "outputs": [
        {
          "output_type": "stream",
          "name": "stdout",
          "text": [
            "H0: samples drawn from populations with identical mean\n",
            "Ha: samples drawn from populations with different means\n",
            "The observed t-statistic is 3.298\n",
            "The corresponding p-value is  1.82e-03\n",
            "Since p-value is <= alpha, the null hypothesis is rejected.\n"
          ]
        }
      ]
    },
    {
      "cell_type": "code",
      "metadata": {
        "id": "RPgdC15CX5rN"
      },
      "source": [],
      "execution_count": null,
      "outputs": []
    }
  ]
}